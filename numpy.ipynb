{
 "cells": [
  {
   "cell_type": "code",
   "execution_count": 3,
   "id": "c4681bc9",
   "metadata": {},
   "outputs": [],
   "source": [
    "item_list = ['Bread', 'Milk', 'Eggs', 'Butter', 'Cocoa']\n",
    "student_marks = [78, 47, 96, 55, 34]\n",
    "hetero_list =  [ 1,2,3.0, 'text', True, 3+2j ]\n"
   ]
  },
  {
   "cell_type": "code",
   "execution_count": 4,
   "id": "3a0890d1",
   "metadata": {},
   "outputs": [
    {
     "name": "stdout",
     "output_type": "stream",
     "text": [
      "[83, 52, 101, 60, 39]\n"
     ]
    }
   ],
   "source": [
    "student_marks = [78, 47, 96, 55, 34]\n",
    "for i in range(len(student_marks)):\n",
    "    student_marks[i]+=5\n",
    "print(student_marks)\n"
   ]
  },
  {
   "cell_type": "code",
   "execution_count": 5,
   "id": "e0b6ec4b",
   "metadata": {},
   "outputs": [
    {
     "name": "stdout",
     "output_type": "stream",
     "text": [
      "CPU times: total: 62.5 ms\n",
      "Wall time: 111 ms\n"
     ]
    }
   ],
   "source": [
    "%%time\n",
    "list1 = list(range(1,1000000))\n",
    "list2 = list(range(2,1000001))\n",
    "list3 = []\n",
    "for i in range(len(list1)):\n",
    "    list3.append(list1[i]+list2[i])\n",
    "    \n"
   ]
  },
  {
   "cell_type": "code",
   "execution_count": 1,
   "id": "ce883ecd",
   "metadata": {},
   "outputs": [
    {
     "name": "stdout",
     "output_type": "stream",
     "text": [
      "CPU times: total: 0 ns\n",
      "Wall time: 66.4 ms\n"
     ]
    }
   ],
   "source": [
    "%%time\n",
    "import numpy as np\n",
    "a = np.arange(1,1000000)\n",
    "b = np.arange(2,1000001)\n",
    "c = a+b\n"
   ]
  },
  {
   "cell_type": "code",
   "execution_count": 2,
   "id": "8b441ab8",
   "metadata": {},
   "outputs": [
    {
     "data": {
      "text/plain": [
       "array([[ 18,  15,  18,  16,  17],\n",
       "       [130, 165, 150, 150, 140],\n",
       "       [307, 350, 318, 304, 302]])"
      ]
     },
     "execution_count": 2,
     "metadata": {},
     "output_type": "execute_result"
    }
   ],
   "source": [
    "car_attributes = [[18, 15, 18, 16, 17],[130, 165, 150, 150, 140],[307, 350, 318, 304, 302]]\n",
    "car_attributes_arr = np.array(car_attributes)\n",
    "car_attributes_arr\n"
   ]
  },
  {
   "cell_type": "code",
   "execution_count": 5,
   "id": "5a40ac62",
   "metadata": {},
   "outputs": [
    {
     "data": {
      "text/plain": [
       "(3, 5)"
      ]
     },
     "execution_count": 5,
     "metadata": {},
     "output_type": "execute_result"
    }
   ],
   "source": [
    "car_attributes = [[18, 15, 18, 16, 17],[130, 165, 150, 150, 140],[307, 350, 318, 304, 302]]\n",
    "car_attributes_arr = np.array(car_attributes)\n",
    "car_attributes_arr.shape\n"
   ]
  },
  {
   "cell_type": "code",
   "execution_count": 6,
   "id": "34cef411",
   "metadata": {},
   "outputs": [
    {
     "data": {
      "text/plain": [
       "dtype('int32')"
      ]
     },
     "execution_count": 6,
     "metadata": {},
     "output_type": "execute_result"
    }
   ],
   "source": [
    "car_attributes = [[18, 15, 18, 16, 17],[130, 165, 150, 150, 140],[307, 350, 318, 304, 302]]\n",
    "car_attributes_arr = np.array(car_attributes)\n",
    "car_attributes_arr.dtype\n"
   ]
  },
  {
   "cell_type": "code",
   "execution_count": 7,
   "id": "1b86ba13",
   "metadata": {},
   "outputs": [
    {
     "name": "stdout",
     "output_type": "stream",
     "text": [
      "[[ 18.  15.  18.  16.  17.]\n",
      " [130. 165. 150. 150. 140.]\n",
      " [307. 350. 318. 304. 302.]]\n",
      "float64\n"
     ]
    }
   ],
   "source": [
    "car_attributes = [[18, 15, 18, 16, 17],[130, 165, 150, 150, 140],[307, 350, 318, 304, 302]]\n",
    "car_attributes_arr = np.array(car_attributes, dtype = 'float')\n",
    "print(car_attributes_arr)\n",
    "print(car_attributes_arr.dtype)\n"
   ]
  },
  {
   "cell_type": "code",
   "execution_count": 11,
   "id": "89f20212",
   "metadata": {},
   "outputs": [
    {
     "data": {
      "text/plain": [
       "'buick skylark 320'"
      ]
     },
     "execution_count": 11,
     "metadata": {},
     "output_type": "execute_result"
    }
   ],
   "source": [
    "\n",
    "cars = np.array(['chevrolet chevelle malibu', 'buick skylark 320', 'plymouth satellite', 'amc rebel sst', 'ford torino'])\n",
    "cars[1]\n"
   ]
  },
  {
   "cell_type": "code",
   "execution_count": 12,
   "id": "fd1ea6ec",
   "metadata": {},
   "outputs": [
    {
     "data": {
      "text/plain": [
       "array([['chevrolet chevelle malibu', 'buick skylark 320',\n",
       "        'plymouth satellite', 'amc rebel sst', 'ford torino'],\n",
       "       ['130', '165', '150', '150', '140']], dtype='<U25')"
      ]
     },
     "execution_count": 12,
     "metadata": {},
     "output_type": "execute_result"
    }
   ],
   "source": [
    "#Creating a 2D array consisting car names and horsepower\n",
    "car_names = ['chevrolet chevelle malibu', 'buick skylark 320', 'plymouth satellite', 'amc rebel sst', 'ford torino']\n",
    "horsepower = [130, 165, 150, 150, 140]\n",
    "car_hp_arr = np.array([car_names, horsepower])\n",
    "car_hp_arr\n"
   ]
  },
  {
   "cell_type": "code",
   "execution_count": 13,
   "id": "2f8a6d5e",
   "metadata": {},
   "outputs": [
    {
     "data": {
      "text/plain": [
       "array(['chevrolet chevelle malibu', 'buick skylark 320',\n",
       "       'plymouth satellite', 'amc rebel sst', 'ford torino'], dtype='<U25')"
      ]
     },
     "execution_count": 13,
     "metadata": {},
     "output_type": "execute_result"
    }
   ],
   "source": [
    "#Creating a 2D array consisting car names and horsepower\n",
    "car_names = ['chevrolet chevelle malibu', 'buick skylark 320', 'plymouth satellite', 'amc rebel sst', 'ford torino']\n",
    "horsepower = [130, 165, 150, 150, 140]\n",
    "car_hp_arr = np.array([car_names, horsepower])\n",
    "#Accessing car names\n",
    "car_hp_arr[0]\n"
   ]
  },
  {
   "cell_type": "code",
   "execution_count": 14,
   "id": "e0eba93e",
   "metadata": {},
   "outputs": [
    {
     "data": {
      "text/plain": [
       "'buick skylark 320'"
      ]
     },
     "execution_count": 14,
     "metadata": {},
     "output_type": "execute_result"
    }
   ],
   "source": [
    "#Creating a 2D array consisting car names and horsepower\n",
    "car_names = ['chevrolet chevelle malibu', 'buick skylark 320', 'plymouth satellite', 'amc rebel sst', 'ford torino']\n",
    "horsepower = [130, 165, 150, 150, 140]\n",
    "car_hp_arr = np.array([car_names, horsepower])\n",
    "#Accessing second car - 0 represents 1st row and 1 represents 2nd element of the row\n",
    "car_hp_arr[0,1]\n"
   ]
  },
  {
   "cell_type": "code",
   "execution_count": 15,
   "id": "8e82c47e",
   "metadata": {},
   "outputs": [
    {
     "data": {
      "text/plain": [
       "array(['130', '165', '150', '150', '140'], dtype='<U25')"
      ]
     },
     "execution_count": 15,
     "metadata": {},
     "output_type": "execute_result"
    }
   ],
   "source": [
    "#Creating a 2D array consisting car names and horsepower\n",
    "car_names = ['chevrolet chevelle malibu', 'buick skylark 320', 'plymouth satellite', 'amc rebel sst', 'ford torino']\n",
    "horsepower = [130, 165, 150, 150, 140]\n",
    "car_hp_arr = np.array([car_names, horsepower])\n",
    "#Accessing horsepower\n",
    "car_hp_arr[1]\n"
   ]
  },
  {
   "cell_type": "code",
   "execution_count": 16,
   "id": "ef5cef1c",
   "metadata": {},
   "outputs": [
    {
     "data": {
      "text/plain": [
       "'buick skylark 320'"
      ]
     },
     "execution_count": 16,
     "metadata": {},
     "output_type": "execute_result"
    }
   ],
   "source": [
    "#Creating a 2D array consisting car names and horsepower\n",
    "car_names = ['chevrolet chevelle malibu', 'buick skylark 320', 'plymouth satellite', 'amc rebel sst', 'ford torino']\n",
    "horsepower = [130, 165, 150, 150, 140]\n",
    "car_hp_arr = np.array([car_names, horsepower])\n",
    "#Accessing second car - 0 represents 1st row and 1 represents 2nd element of the row\n",
    "car_hp_arr[0,1]\n"
   ]
  },
  {
   "cell_type": "code",
   "execution_count": 4,
   "id": "9ea51e9f",
   "metadata": {},
   "outputs": [
    {
     "data": {
      "text/plain": [
       "'ford torino'"
      ]
     },
     "execution_count": 4,
     "metadata": {},
     "output_type": "execute_result"
    }
   ],
   "source": [
    "car_names = ['chevrolet chevelle malibu', 'buick skylark 320', 'plymouth satellite', 'amc rebel sst', 'ford torino']\n",
    "horsepower = [130, 165, 150, 150, 140]\n",
    "car_hp_arr = np.array([car_names, horsepower])\n",
    "car_hp_arr[0,-1]\n"
   ]
  },
  {
   "cell_type": "code",
   "execution_count": 3,
   "id": "897adec0",
   "metadata": {},
   "outputs": [
    {
     "data": {
      "text/plain": [
       "array(['buick skylark 320', 'plymouth satellite', 'amc rebel sst'],\n",
       "      dtype='<U25')"
      ]
     },
     "execution_count": 3,
     "metadata": {},
     "output_type": "execute_result"
    }
   ],
   "source": [
    "cars = np.array(['chevrolet chevelle malibu', 'buick skylark 320', 'plymouth satellite', 'amc rebel sst', 'ford torino'])\n",
    "cars[1:4]\n"
   ]
  },
  {
   "cell_type": "code",
   "execution_count": 19,
   "id": "c312e22d",
   "metadata": {},
   "outputs": [
    {
     "data": {
      "text/plain": [
       "array([['chevrolet chevelle malibu', 'buick skylark 320',\n",
       "        'plymouth satellite', 'amc rebel sst', 'ford torino'],\n",
       "       ['130', '165', '150', '150', '140'],\n",
       "       ['18', '15', '18', '16', '17']], dtype='<U25')"
      ]
     },
     "execution_count": 19,
     "metadata": {},
     "output_type": "execute_result"
    }
   ],
   "source": [
    "car_names = ['chevrolet chevelle malibu', 'buick skylark 320', 'plymouth satellite', 'amc rebel sst', 'ford torino']\n",
    "horsepower = [130, 165, 150, 150, 140]\n",
    "acceleration = [18, 15, 18, 16, 17]\n",
    "car_hp_acc_arr = np.array([car_names, horsepower, acceleration])\n",
    "car_hp_acc_arr\n"
   ]
  },
  {
   "cell_type": "code",
   "execution_count": 33,
   "id": "cf49d8ed",
   "metadata": {},
   "outputs": [
    {
     "data": {
      "text/plain": [
       "array([['chevrolet chevelle malibu', 'buick skylark 320',\n",
       "        'plymouth satellite', 'amc rebel sst', 'ford torino'],\n",
       "       ['130', '165', '150', '150', '140']], dtype='<U25')"
      ]
     },
     "execution_count": 33,
     "metadata": {},
     "output_type": "execute_result"
    }
   ],
   "source": [
    "car_names = ['chevrolet chevelle malibu', 'buick skylark 320', 'plymouth satellite', 'amc rebel sst', 'ford torino']\n",
    "horsepower = [130, 165, 150, 150, 140]\n",
    "acceleration = [18, 15, 18, 16, 17]\n",
    "car_hp_acc_arr = np.array([car_names, horsepower, acceleration])\n",
    "car_hp_acc_arr[0:2]\n"
   ]
  },
  {
   "cell_type": "code",
   "execution_count": 32,
   "id": "6a9ddca9",
   "metadata": {},
   "outputs": [
    {
     "data": {
      "text/plain": [
       "array([['amc rebel sst', 'ford torino'],\n",
       "       ['150', '140']], dtype='<U25')"
      ]
     },
     "execution_count": 32,
     "metadata": {},
     "output_type": "execute_result"
    }
   ],
   "source": [
    "car_names = ['chevrolet chevelle malibu', 'buick skylark 320', 'plymouth satellite', 'amc rebel sst', 'ford torino']\n",
    "horsepower = [130, 165, 150, 150, 140]\n",
    "acceleration = [18, 15, 18, 16, 17]\n",
    "car_hp_acc_arr = np.array([car_names, horsepower, acceleration])\n",
    "car_hp_acc_arr[0:2, 3:5]\n"
   ]
  },
  {
   "cell_type": "code",
   "execution_count": 31,
   "id": "d84a372d",
   "metadata": {},
   "outputs": [
    {
     "data": {
      "text/plain": [
       "array([['chevrolet chevelle malibu', 'buick skylark 320',\n",
       "        'plymouth satellite'],\n",
       "       ['130', '165', '150'],\n",
       "       ['18', '15', '18']], dtype='<U25')"
      ]
     },
     "execution_count": 31,
     "metadata": {},
     "output_type": "execute_result"
    }
   ],
   "source": [
    "car_names = ['chevrolet chevelle malibu', 'buick skylark 320', 'plymouth satellite', 'amc rebel sst', 'ford torino']\n",
    "horsepower = [130, 165, 150, 150, 140]\n",
    "acceleration = [18, 15, 18, 16, 17]\n",
    "car_hp_acc_arr = np.array([car_names, horsepower, acceleration])\n",
    "car_hp_acc_arr[0:3, 0:3]\n"
   ]
  },
  {
   "cell_type": "code",
   "execution_count": 30,
   "id": "a1b74f7a",
   "metadata": {},
   "outputs": [
    {
     "name": "stdout",
     "output_type": "stream",
     "text": [
      "Mean horsepower =  147.0\n"
     ]
    }
   ],
   "source": [
    "horsepower = [130, 165, 150, 150, 140]\n",
    "horsepower_arr = np.array(horsepower)\n",
    "print(\"Mean horsepower = \",np.mean(horsepower_arr))\n"
   ]
  },
  {
   "cell_type": "code",
   "execution_count": 29,
   "id": "22ed17ea",
   "metadata": {},
   "outputs": [
    {
     "name": "stdout",
     "output_type": "stream",
     "text": [
      "Median horsepower =  150.0\n"
     ]
    }
   ],
   "source": [
    "horsepower = [130, 165, 150, 150, 140]\n",
    "horsepower_arr = np.array(horsepower)\n",
    "print(\"Median horsepower = \",np.median(horsepower_arr))\n"
   ]
  },
  {
   "cell_type": "code",
   "execution_count": 28,
   "id": "4077acae",
   "metadata": {},
   "outputs": [
    {
     "name": "stdout",
     "output_type": "stream",
     "text": [
      "Minimum horsepower:  130\n",
      "Maximum horsepower:  165\n"
     ]
    }
   ],
   "source": [
    "horsepower = [130, 165, 150, 150, 140]\n",
    "horsepower_arr = np.array(horsepower)\n",
    "print(\"Minimum horsepower: \", np.min(horsepower_arr))\n",
    "print(\"Maximum horsepower: \", np.max(horsepower_arr))\n"
   ]
  },
  {
   "cell_type": "code",
   "execution_count": null,
   "id": "2cd3943a",
   "metadata": {},
   "outputs": [],
   "source": []
  }
 ],
 "metadata": {
  "kernelspec": {
   "display_name": "Python 3 (ipykernel)",
   "language": "python",
   "name": "python3"
  },
  "language_info": {
   "codemirror_mode": {
    "name": "ipython",
    "version": 3
   },
   "file_extension": ".py",
   "mimetype": "text/x-python",
   "name": "python",
   "nbconvert_exporter": "python",
   "pygments_lexer": "ipython3",
   "version": "3.11.3"
  }
 },
 "nbformat": 4,
 "nbformat_minor": 5
}
