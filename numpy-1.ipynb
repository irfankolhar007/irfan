{
 "cells": [
  {
   "cell_type": "code",
   "execution_count": null,
   "id": "255cab67",
   "metadata": {},
   "outputs": [],
   "source": []
  },
  {
   "cell_type": "code",
   "execution_count": null,
   "id": "f77bfaf6",
   "metadata": {},
   "outputs": [],
   "source": []
  },
  {
   "cell_type": "code",
   "execution_count": 3,
   "id": "c4681bc9",
   "metadata": {},
   "outputs": [],
   "source": [
    "item_list = ['Bread', 'Milk', 'Eggs', 'Butter', 'Cocoa']\n",
    "student_marks = [78, 47, 96, 55, 34]\n",
    "hetero_list =  [ 1,2,3.0, 'text', True, 3+2j ]\n"
   ]
  },
  {
   "cell_type": "code",
   "execution_count": 4,
   "id": "3a0890d1",
   "metadata": {},
   "outputs": [
    {
     "name": "stdout",
     "output_type": "stream",
     "text": [
      "[83, 52, 101, 60, 39]\n"
     ]
    }
   ],
   "source": [
    "student_marks = [78, 47, 96, 55, 34]\n",
    "for i in range(len(student_marks)):\n",
    "    student_marks[i]+=5\n",
    "print(student_marks)\n"
   ]
  },
  {
   "cell_type": "code",
   "execution_count": 5,
   "id": "e0b6ec4b",
   "metadata": {},
   "outputs": [
    {
     "name": "stdout",
     "output_type": "stream",
     "text": [
      "CPU times: total: 62.5 ms\n",
      "Wall time: 111 ms\n"
     ]
    }
   ],
   "source": [
    "%%time\n",
    "list1 = list(range(1,1000000))\n",
    "list2 = list(range(2,1000001))\n",
    "list3 = []\n",
    "for i in range(len(list1)):\n",
    "    list3.append(list1[i]+list2[i])\n",
    "    \n"
   ]
  },
  {
   "cell_type": "code",
   "execution_count": 1,
   "id": "ce883ecd",
   "metadata": {},
   "outputs": [
    {
     "name": "stdout",
     "output_type": "stream",
     "text": [
      "CPU times: total: 0 ns\n",
      "Wall time: 66.4 ms\n"
     ]
    }
   ],
   "source": [
    "%%time\n",
    "import numpy as np\n",
    "a = np.arange(1,1000000)\n",
    "b = np.arange(2,1000001)\n",
    "c = a+b\n"
   ]
  },
  {
   "cell_type": "code",
   "execution_count": 2,
   "id": "8b441ab8",
   "metadata": {},
   "outputs": [
    {
     "data": {
      "text/plain": [
       "array([[ 18,  15,  18,  16,  17],\n",
       "       [130, 165, 150, 150, 140],\n",
       "       [307, 350, 318, 304, 302]])"
      ]
     },
     "execution_count": 2,
     "metadata": {},
     "output_type": "execute_result"
    }
   ],
   "source": [
    "car_attributes = [[18, 15, 18, 16, 17],[130, 165, 150, 150, 140],[307, 350, 318, 304, 302]]\n",
    "car_attributes_arr = np.array(car_attributes)\n",
    "car_attributes_arr\n"
   ]
  },
  {
   "cell_type": "code",
   "execution_count": 5,
   "id": "5a40ac62",
   "metadata": {},
   "outputs": [
    {
     "data": {
      "text/plain": [
       "(3, 5)"
      ]
     },
     "execution_count": 5,
     "metadata": {},
     "output_type": "execute_result"
    }
   ],
   "source": [
    "car_attributes = [[18, 15, 18, 16, 17],[130, 165, 150, 150, 140],[307, 350, 318, 304, 302]]\n",
    "car_attributes_arr = np.array(car_attributes)\n",
    "car_attributes_arr.shape\n"
   ]
  },
  {
   "cell_type": "code",
   "execution_count": 6,
   "id": "34cef411",
   "metadata": {},
   "outputs": [
    {
     "data": {
      "text/plain": [
       "dtype('int32')"
      ]
     },
     "execution_count": 6,
     "metadata": {},
     "output_type": "execute_result"
    }
   ],
   "source": [
    "car_attributes = [[18, 15, 18, 16, 17],[130, 165, 150, 150, 140],[307, 350, 318, 304, 302]]\n",
    "car_attributes_arr = np.array(car_attributes)\n",
    "car_attributes_arr.dtype\n"
   ]
  },
  {
   "cell_type": "code",
   "execution_count": 7,
   "id": "1b86ba13",
   "metadata": {},
   "outputs": [
    {
     "name": "stdout",
     "output_type": "stream",
     "text": [
      "[[ 18.  15.  18.  16.  17.]\n",
      " [130. 165. 150. 150. 140.]\n",
      " [307. 350. 318. 304. 302.]]\n",
      "float64\n"
     ]
    }
   ],
   "source": [
    "car_attributes = [[18, 15, 18, 16, 17],[130, 165, 150, 150, 140],[307, 350, 318, 304, 302]]\n",
    "car_attributes_arr = np.array(car_attributes, dtype = 'float')\n",
    "print(car_attributes_arr)\n",
    "print(car_attributes_arr.dtype)\n"
   ]
  },
  {
   "cell_type": "code",
   "execution_count": 8,
   "id": "89f20212",
   "metadata": {},
   "outputs": [
    {
     "data": {
      "text/plain": [
       "'buick skylark 320'"
      ]
     },
     "execution_count": 8,
     "metadata": {},
     "output_type": "execute_result"
    }
   ],
   "source": [
    "cars = np.array(['chevrolet chevelle malibu', 'buick skylark 320', 'plymouth satellite', 'amc rebel sst', 'ford torino'])\n",
    "cars[1]\n"
   ]
  },
  {
   "cell_type": "code",
   "execution_count": 9,
   "id": "fd1ea6ec",
   "metadata": {},
   "outputs": [
    {
     "data": {
      "text/plain": [
       "array([['chevrolet chevelle malibu', 'buick skylark 320',\n",
       "        'plymouth satellite', 'amc rebel sst', 'ford torino'],\n",
       "       ['130', '165', '150', '150', '140']], dtype='<U25')"
      ]
     },
     "execution_count": 9,
     "metadata": {},
     "output_type": "execute_result"
    }
   ],
   "source": [
    "car_names = ['chevrolet chevelle malibu', 'buick skylark 320', 'plymouth satellite', 'amc rebel sst', 'ford torino']\n",
    "horsepower = [130, 165, 150, 150, 140]\n",
    "car_hp_arr = np.array([car_names, horsepower])\n",
    "car_hp_arr\n"
   ]
  },
  {
   "cell_type": "code",
   "execution_count": 10,
   "id": "2f8a6d5e",
   "metadata": {},
   "outputs": [
    {
     "data": {
      "text/plain": [
       "array(['chevrolet chevelle malibu', 'buick skylark 320',\n",
       "       'plymouth satellite', 'amc rebel sst', 'ford torino'], dtype='<U25')"
      ]
     },
     "execution_count": 10,
     "metadata": {},
     "output_type": "execute_result"
    }
   ],
   "source": [
    "car_names = ['chevrolet chevelle malibu', 'buick skylark 320', 'plymouth satellite', 'amc rebel sst', 'ford torino']\n",
    "horsepower = [130, 165, 150, 150, 140]\n",
    "car_hp_arr = np.array([car_names, horsepower])\n",
    "car_hp_arr[0]\n"
   ]
  },
  {
   "cell_type": "code",
   "execution_count": 11,
   "id": "e0eba93e",
   "metadata": {},
   "outputs": [
    {
     "data": {
      "text/plain": [
       "'buick skylark 320'"
      ]
     },
     "execution_count": 11,
     "metadata": {},
     "output_type": "execute_result"
    }
   ],
   "source": [
    "car_names = ['chevrolet chevelle malibu', 'buick skylark 320', 'plymouth satellite', 'amc rebel sst', 'ford torino']\n",
    "horsepower = [130, 165, 150, 150, 140]\n",
    "car_hp_arr = np.array([car_names, horsepower])\n",
    "car_hp_arr[0,1]\n"
   ]
  },
  {
   "cell_type": "code",
   "execution_count": 15,
   "id": "8e82c47e",
   "metadata": {},
   "outputs": [
    {
     "data": {
      "text/plain": [
       "array(['130', '165', '150', '150', '140'], dtype='<U25')"
      ]
     },
     "execution_count": 15,
     "metadata": {},
     "output_type": "execute_result"
    }
   ],
   "source": [
    "car_names = ['chevrolet chevelle malibu', 'buick skylark 320', 'plymouth satellite', 'amc rebel sst', 'ford torino']\n",
    "horsepower = [130, 165, 150, 150, 140]\n",
    "car_hp_arr = np.array([car_names, horsepower])\n",
    "car_hp_arr[1]\n"
   ]
  },
  {
   "cell_type": "code",
   "execution_count": 12,
   "id": "ef5cef1c",
   "metadata": {},
   "outputs": [
    {
     "data": {
      "text/plain": [
       "'buick skylark 320'"
      ]
     },
     "execution_count": 12,
     "metadata": {},
     "output_type": "execute_result"
    }
   ],
   "source": [
    "car_names = ['chevrolet chevelle malibu', 'buick skylark 320', 'plymouth satellite', 'amc rebel sst', 'ford torino']\n",
    "horsepower = [130, 165, 150, 150, 140]\n",
    "car_hp_arr = np.array([car_names, horsepower])\n",
    "car_hp_arr[0,1]\n"
   ]
  },
  {
   "cell_type": "code",
   "execution_count": 4,
   "id": "9ea51e9f",
   "metadata": {},
   "outputs": [
    {
     "data": {
      "text/plain": [
       "'ford torino'"
      ]
     },
     "execution_count": 4,
     "metadata": {},
     "output_type": "execute_result"
    }
   ],
   "source": [
    "car_names = ['chevrolet chevelle malibu', 'buick skylark 320', 'plymouth satellite', 'amc rebel sst', 'ford torino']\n",
    "horsepower = [130, 165, 150, 150, 140]\n",
    "car_hp_arr = np.array([car_names, horsepower])\n",
    "car_hp_arr[0,-1]\n"
   ]
  },
  {
   "cell_type": "code",
   "execution_count": 3,
   "id": "897adec0",
   "metadata": {},
   "outputs": [
    {
     "data": {
      "text/plain": [
       "array(['buick skylark 320', 'plymouth satellite', 'amc rebel sst'],\n",
       "      dtype='<U25')"
      ]
     },
     "execution_count": 3,
     "metadata": {},
     "output_type": "execute_result"
    }
   ],
   "source": [
    "cars = np.array(['chevrolet chevelle malibu', 'buick skylark 320', 'plymouth satellite', 'amc rebel sst', 'ford torino'])\n",
    "cars[1:4]\n"
   ]
  },
  {
   "cell_type": "code",
   "execution_count": 19,
   "id": "c312e22d",
   "metadata": {},
   "outputs": [
    {
     "data": {
      "text/plain": [
       "array([['chevrolet chevelle malibu', 'buick skylark 320',\n",
       "        'plymouth satellite', 'amc rebel sst', 'ford torino'],\n",
       "       ['130', '165', '150', '150', '140'],\n",
       "       ['18', '15', '18', '16', '17']], dtype='<U25')"
      ]
     },
     "execution_count": 19,
     "metadata": {},
     "output_type": "execute_result"
    }
   ],
   "source": [
    "car_names = ['chevrolet chevelle malibu', 'buick skylark 320', 'plymouth satellite', 'amc rebel sst', 'ford torino']\n",
    "horsepower = [130, 165, 150, 150, 140]\n",
    "acceleration = [18, 15, 18, 16, 17]\n",
    "car_hp_acc_arr = np.array([car_names, horsepower, acceleration])\n",
    "car_hp_acc_arr\n"
   ]
  },
  {
   "cell_type": "code",
   "execution_count": 33,
   "id": "cf49d8ed",
   "metadata": {},
   "outputs": [
    {
     "data": {
      "text/plain": [
       "array([['chevrolet chevelle malibu', 'buick skylark 320',\n",
       "        'plymouth satellite', 'amc rebel sst', 'ford torino'],\n",
       "       ['130', '165', '150', '150', '140']], dtype='<U25')"
      ]
     },
     "execution_count": 33,
     "metadata": {},
     "output_type": "execute_result"
    }
   ],
   "source": [
    "car_names = ['chevrolet chevelle malibu', 'buick skylark 320', 'plymouth satellite', 'amc rebel sst', 'ford torino']\n",
    "horsepower = [130, 165, 150, 150, 140]\n",
    "acceleration = [18, 15, 18, 16, 17]\n",
    "car_hp_acc_arr = np.array([car_names, horsepower, acceleration])\n",
    "car_hp_acc_arr[0:2]\n"
   ]
  },
  {
   "cell_type": "code",
   "execution_count": 32,
   "id": "6a9ddca9",
   "metadata": {},
   "outputs": [
    {
     "data": {
      "text/plain": [
       "array([['amc rebel sst', 'ford torino'],\n",
       "       ['150', '140']], dtype='<U25')"
      ]
     },
     "execution_count": 32,
     "metadata": {},
     "output_type": "execute_result"
    }
   ],
   "source": [
    "car_names = ['chevrolet chevelle malibu', 'buick skylark 320', 'plymouth satellite', 'amc rebel sst', 'ford torino']\n",
    "horsepower = [130, 165, 150, 150, 140]\n",
    "acceleration = [18, 15, 18, 16, 17]\n",
    "car_hp_acc_arr = np.array([car_names, horsepower, acceleration])\n",
    "car_hp_acc_arr[0:2, 3:5]\n"
   ]
  },
  {
   "cell_type": "code",
   "execution_count": 31,
   "id": "d84a372d",
   "metadata": {},
   "outputs": [
    {
     "data": {
      "text/plain": [
       "array([['chevrolet chevelle malibu', 'buick skylark 320',\n",
       "        'plymouth satellite'],\n",
       "       ['130', '165', '150'],\n",
       "       ['18', '15', '18']], dtype='<U25')"
      ]
     },
     "execution_count": 31,
     "metadata": {},
     "output_type": "execute_result"
    }
   ],
   "source": [
    "car_names = ['chevrolet chevelle malibu', 'buick skylark 320', 'plymouth satellite', 'amc rebel sst', 'ford torino']\n",
    "horsepower = [130, 165, 150, 150, 140]\n",
    "acceleration = [18, 15, 18, 16, 17]\n",
    "car_hp_acc_arr = np.array([car_names, horsepower, acceleration])\n",
    "car_hp_acc_arr[0:3, 0:3]\n"
   ]
  },
  {
   "cell_type": "code",
   "execution_count": 30,
   "id": "a1b74f7a",
   "metadata": {},
   "outputs": [
    {
     "name": "stdout",
     "output_type": "stream",
     "text": [
      "Mean horsepower =  147.0\n"
     ]
    }
   ],
   "source": [
    "horsepower = [130, 165, 150, 150, 140]\n",
    "horsepower_arr = np.array(horsepower)\n",
    "print(\"Mean horsepower = \",np.mean(horsepower_arr))\n"
   ]
  },
  {
   "cell_type": "code",
   "execution_count": 29,
   "id": "22ed17ea",
   "metadata": {},
   "outputs": [
    {
     "name": "stdout",
     "output_type": "stream",
     "text": [
      "Median horsepower =  150.0\n"
     ]
    }
   ],
   "source": [
    "horsepower = [130, 165, 150, 150, 140]\n",
    "horsepower_arr = np.array(horsepower)\n",
    "print(\"Median horsepower = \",np.median(horsepower_arr))\n"
   ]
  },
  {
   "cell_type": "code",
   "execution_count": 28,
   "id": "4077acae",
   "metadata": {},
   "outputs": [
    {
     "name": "stdout",
     "output_type": "stream",
     "text": [
      "Minimum horsepower:  130\n",
      "Maximum horsepower:  165\n"
     ]
    }
   ],
   "source": [
    "horsepower = [130, 165, 150, 150, 140]\n",
    "horsepower_arr = np.array(horsepower)\n",
    "print(\"Minimum horsepower: \", np.min(horsepower_arr))\n",
    "print(\"Maximum horsepower: \", np.max(horsepower_arr))\n"
   ]
  },
  {
   "cell_type": "code",
   "execution_count": 1,
   "id": "2cd3943a",
   "metadata": {},
   "outputs": [
    {
     "name": "stdout",
     "output_type": "stream",
     "text": [
      "(array([1, 2, 3], dtype=int64),)\n",
      "[165 150 150]\n"
     ]
    }
   ],
   "source": [
    "import numpy as np\n",
    "hr=np.array([130,165,150,150,140])\n",
    "x=np.where(hr>=150)\n",
    "print(x)\n",
    "print(hr[x])"
   ]
  },
  {
   "cell_type": "code",
   "execution_count": 4,
   "id": "20b5a966",
   "metadata": {},
   "outputs": [
    {
     "data": {
      "text/plain": [
       "array([[67, 45],\n",
       "       [90, 92],\n",
       "       [66, 72],\n",
       "       [32, 40]])"
      ]
     },
     "execution_count": 4,
     "metadata": {},
     "output_type": "execute_result"
    }
   ],
   "source": [
    "array11= np.array ([[67,45],[90,92],[66,72],[32,40]])\n",
    "array11"
   ]
  },
  {
   "cell_type": "code",
   "execution_count": 5,
   "id": "bdd074d5",
   "metadata": {},
   "outputs": [
    {
     "data": {
      "text/plain": [
       "array([[ 72,  55],\n",
       "       [ 95, 102],\n",
       "       [ 71,  82],\n",
       "       [ 37,  50]])"
      ]
     },
     "execution_count": 5,
     "metadata": {},
     "output_type": "execute_result"
    }
   ],
   "source": [
    "array11= np.array ([[67,45],[90,92],[66,72],[32,40]])\n",
    "add_marks=([5,10])\n",
    "x=np.add(array11,add_marks)\n",
    "x\n"
   ]
  },
  {
   "cell_type": "code",
   "execution_count": 9,
   "id": "f745ce09",
   "metadata": {},
   "outputs": [
    {
     "name": "stdout",
     "output_type": "stream",
     "text": [
      "[[   1 6012]\n",
      " [   2 7879]\n",
      " [   3 6886]\n",
      " [   4 7230]\n",
      " [   5 4598]\n",
      " [   6 5564]\n",
      " [   7 6971]\n",
      " [   8 7763]\n",
      " [   9 8032]\n",
      " [  10 9569]]\n",
      "steps after 7pm = [[    1  8012]\n",
      " [    2  9879]\n",
      " [    3  8886]\n",
      " [    4  9230]\n",
      " [    5  6598]\n",
      " [    6  7564]\n",
      " [    7  8971]\n",
      " [    8  9763]\n",
      " [    9 10032]\n",
      " [   10 11569]]\n",
      "[9569]\n",
      "[4598 5564 6012 6886 6971 7230 7763 7879 8032 9569]\n"
     ]
    }
   ],
   "source": [
    "steps = np.array([[1,6012],[2,7879],[3,6886],[4,7230],[5,4598],[6,5564],[7,6971],[8,7763],[9,8032],[10,9569]])\n",
    "print(steps)\n",
    "steps_walked = np.array([6012,7879,6886,7230,4598,5564,6971,7763,8032,9569])\n",
    "\n",
    "add_step = np.array([0,2000])\n",
    "steps2 = np.add(steps,add_step)\n",
    "print('steps after 7pm =',steps2)\n",
    "\n",
    "x = np.where(steps_walked>9000)\n",
    "print(steps_walked[x])\n",
    "\n",
    "sorted_steps = np.sort(steps_walked)\n",
    "print(sorted_steps)"
   ]
  },
  {
   "cell_type": "code",
   "execution_count": 7,
   "id": "43e8a002",
   "metadata": {},
   "outputs": [
    {
     "name": "stdout",
     "output_type": "stream",
     "text": [
      "10\n",
      "[4 6]\n",
      "[3 7]\n"
     ]
    }
   ],
   "source": [
    "import numpy as np\n",
    "arr = np.array([[1, 2], [3, 4]])\n",
    "print(np.sum(arr))\n",
    "print(np.sum(arr, axis=0)) \n",
    "print(np.sum(arr, axis=1))\n"
   ]
  },
  {
   "cell_type": "code",
   "execution_count": 8,
   "id": "47a7a23d",
   "metadata": {},
   "outputs": [
    {
     "name": "stdout",
     "output_type": "stream",
     "text": [
      "2.5\n",
      "[2. 3.]\n",
      "[1.5 3.5]\n"
     ]
    }
   ],
   "source": [
    "import numpy as np\n",
    "arr = np.array([[1, 2], [3, 4]])\n",
    "print(np.mean(arr))\n",
    "print(np.mean(arr, axis=0))\n",
    "print(np.mean(arr, axis=1)) "
   ]
  },
  {
   "cell_type": "code",
   "execution_count": 12,
   "id": "6b54b7ee",
   "metadata": {},
   "outputs": [
    {
     "name": "stdout",
     "output_type": "stream",
     "text": [
      "4\n",
      "[3 4]\n",
      "[2 4]\n",
      "1\n",
      "[1 2]\n",
      "[1 3]\n"
     ]
    }
   ],
   "source": [
    "import numpy as np\n",
    "arr = np.array([[1, 2], [3, 4]])\n",
    "print(np.max(arr)) \n",
    "print(np.max(arr, axis=0))\n",
    "print(np.max(arr, axis=1))\n",
    "print(np.min(arr)) \n",
    "print(np.min(arr, axis=0))\n",
    "print(np.min(arr, axis=1))"
   ]
  },
  {
   "cell_type": "code",
   "execution_count": 10,
   "id": "d15f1287",
   "metadata": {},
   "outputs": [
    {
     "name": "stdout",
     "output_type": "stream",
     "text": [
      "2.5\n",
      "[2. 3.]\n",
      "[1.5 3.5]\n"
     ]
    }
   ],
   "source": [
    "import numpy as np\n",
    "arr = np.array([[1, 2], [3, 4]])\n",
    "print(np.median(arr))\n",
    "print(np.median(arr, axis=0)) \n",
    "print(np.median(arr, axis=1))\n"
   ]
  },
  {
   "cell_type": "code",
   "execution_count": 11,
   "id": "0f62a054",
   "metadata": {},
   "outputs": [
    {
     "name": "stdout",
     "output_type": "stream",
     "text": [
      "24\n",
      "[3 8]\n",
      "[ 2 12]\n"
     ]
    }
   ],
   "source": [
    "import numpy as np\n",
    "arr = np.array([[1, 2], [3, 4]])\n",
    "print(np.prod(arr))\n",
    "print(np.prod(arr, axis=0))\n",
    "print(np.prod(arr, axis=1))\n"
   ]
  },
  {
   "cell_type": "code",
   "execution_count": 13,
   "id": "d0a82267",
   "metadata": {},
   "outputs": [
    {
     "name": "stdout",
     "output_type": "stream",
     "text": [
      "1.118033988749895\n",
      "[1. 1.]\n",
      "[0.5 0.5]\n"
     ]
    }
   ],
   "source": [
    "import numpy as np\n",
    "arr = np.array([[1, 2], [3, 4]])\n",
    "print(np.std(arr)) \n",
    "print(np.std(arr, axis=0)) \n",
    "print(np.std(arr, axis=1)) "
   ]
  },
  {
   "cell_type": "code",
   "execution_count": 14,
   "id": "cda6528e",
   "metadata": {},
   "outputs": [
    {
     "name": "stdout",
     "output_type": "stream",
     "text": [
      "1.25\n",
      "[1. 1.]\n",
      "[0.25 0.25]\n"
     ]
    }
   ],
   "source": [
    "import numpy as np\n",
    "arr = np.array([[1, 2], [3, 4]])\n",
    "print(np.var(arr))\n",
    "print(np.var(arr, axis=0)) \n",
    "print(np.var(arr, axis=1)) "
   ]
  },
  {
   "cell_type": "code",
   "execution_count": 15,
   "id": "738dd7a2",
   "metadata": {},
   "outputs": [
    {
     "name": "stdout",
     "output_type": "stream",
     "text": [
      "[5 7 9]\n"
     ]
    }
   ],
   "source": [
    "import numpy as np\n",
    "arr1 = np.array([1, 2, 3])\n",
    "arr2 = np.array([4, 5, 6])\n",
    "result = arr1 + arr2\n",
    "print(result)"
   ]
  },
  {
   "cell_type": "code",
   "execution_count": 16,
   "id": "d6938103",
   "metadata": {},
   "outputs": [
    {
     "name": "stdout",
     "output_type": "stream",
     "text": [
      "[3 3 3]\n"
     ]
    }
   ],
   "source": [
    "import numpy as np\n",
    "arr1 = np.array([4, 5, 6])\n",
    "arr2 = np.array([1, 2, 3])\n",
    "result = arr1 - arr2\n",
    "print(result) \n"
   ]
  },
  {
   "cell_type": "code",
   "execution_count": 17,
   "id": "e64fb13a",
   "metadata": {},
   "outputs": [
    {
     "name": "stdout",
     "output_type": "stream",
     "text": [
      "[ 4 10 18]\n"
     ]
    }
   ],
   "source": [
    "import numpy as np\n",
    "arr1 = np.array([1, 2, 3])\n",
    "arr2 = np.array([4, 5, 6])\n",
    "result = arr1 * arr2\n",
    "print(result)"
   ]
  },
  {
   "cell_type": "code",
   "execution_count": 18,
   "id": "3e6693c0",
   "metadata": {},
   "outputs": [
    {
     "name": "stdout",
     "output_type": "stream",
     "text": [
      "[2. 2. 2.]\n"
     ]
    }
   ],
   "source": [
    "import numpy as np\n",
    "arr1 = np.array([4, 6, 8])\n",
    "arr2 = np.array([2, 3, 4])\n",
    "result = arr1 / arr2\n",
    "print(result)"
   ]
  },
  {
   "cell_type": "code",
   "execution_count": 19,
   "id": "14d346bd",
   "metadata": {},
   "outputs": [
    {
     "name": "stdout",
     "output_type": "stream",
     "text": [
      "[ 4  9 16]\n"
     ]
    }
   ],
   "source": [
    "import numpy as np\n",
    "arr = np.array([2, 3, 4])\n",
    "result = arr ** 2\n",
    "print(result)"
   ]
  },
  {
   "cell_type": "code",
   "execution_count": 20,
   "id": "4ef32cfe",
   "metadata": {},
   "outputs": [
    {
     "name": "stdout",
     "output_type": "stream",
     "text": [
      "[2. 3. 4.]\n"
     ]
    }
   ],
   "source": [
    "import numpy as np\n",
    "arr = np.array([4, 9, 16])\n",
    "result = np.sqrt(arr)\n",
    "print(result)"
   ]
  },
  {
   "cell_type": "code",
   "execution_count": 21,
   "id": "ee87526d",
   "metadata": {},
   "outputs": [
    {
     "name": "stdout",
     "output_type": "stream",
     "text": [
      "[False  True  True]\n"
     ]
    }
   ],
   "source": [
    "import numpy as np\n",
    "arr1 = np.array([1, 2, 3])\n",
    "arr2 = np.array([2, 2, 3])\n",
    "result = arr1 == arr2\n",
    "print(result) "
   ]
  },
  {
   "cell_type": "code",
   "execution_count": 22,
   "id": "9de9003a",
   "metadata": {},
   "outputs": [
    {
     "name": "stdout",
     "output_type": "stream",
     "text": [
      "3.5\n",
      "[0.81649658 0.81649658]\n",
      "[5 7 9]\n"
     ]
    }
   ],
   "source": [
    "import numpy as np\n",
    "arr = np.array([[1, 2, 3], [4, 5, 6]])\n",
    "result_mean = np.mean(arr)\n",
    "result_std = np.std(arr, axis=1)\n",
    "result_sum = np.sum(arr, axis=0)\n",
    "print(result_mean) \n",
    "print(result_std) \n",
    "print(result_sum)"
   ]
  },
  {
   "cell_type": "code",
   "execution_count": 23,
   "id": "75a02f26",
   "metadata": {},
   "outputs": [
    {
     "name": "stdout",
     "output_type": "stream",
     "text": [
      "[2. 5. 6.]\n"
     ]
    }
   ],
   "source": [
    "import numpy as np\n",
    "arr = np.array([2.3, 4.7, 6.1])\n",
    "result = np.round(arr)\n",
    "print(result)"
   ]
  },
  {
   "cell_type": "code",
   "execution_count": 24,
   "id": "e014d056",
   "metadata": {},
   "outputs": [
    {
     "name": "stdout",
     "output_type": "stream",
     "text": [
      "[ 4  9 16]\n"
     ]
    }
   ],
   "source": [
    "import numpy as np\n",
    "arr = np.array([2, 3, 4])\n",
    "result = np.power(arr, 2)\n",
    "print(result) "
   ]
  },
  {
   "cell_type": "code",
   "execution_count": 25,
   "id": "8137524e",
   "metadata": {},
   "outputs": [
    {
     "name": "stdout",
     "output_type": "stream",
     "text": [
      "[1 0 0]\n"
     ]
    }
   ],
   "source": [
    "import numpy as np\n",
    "arr = np.array([1, 5, 10])\n",
    "result = np.where(arr < 5, arr, 0)\n",
    "print(result) "
   ]
  },
  {
   "cell_type": "code",
   "execution_count": 26,
   "id": "ddc956fb",
   "metadata": {},
   "outputs": [
    {
     "name": "stdout",
     "output_type": "stream",
     "text": [
      "[ 1  3  6 10 15]\n"
     ]
    }
   ],
   "source": [
    "import numpy as np\n",
    "arr = np.array([1, 2, 3, 4, 5])\n",
    "result = np.cumsum(arr)\n",
    "print(result) "
   ]
  },
  {
   "cell_type": "code",
   "execution_count": 27,
   "id": "606398fb",
   "metadata": {},
   "outputs": [
    {
     "name": "stdout",
     "output_type": "stream",
     "text": [
      "[1 2 3 4 5]\n"
     ]
    }
   ],
   "source": [
    "import numpy as np\n",
    "arr = np.array([3, 1, 4, 2, 5])\n",
    "result = np.sort(arr)\n",
    "print(result) "
   ]
  },
  {
   "cell_type": "code",
   "execution_count": 30,
   "id": "82911205",
   "metadata": {},
   "outputs": [
    {
     "name": "stdout",
     "output_type": "stream",
     "text": [
      "[[ 4  2 -1  4]\n",
      " [ 3 -3  0 -1]]\n"
     ]
    }
   ],
   "source": [
    "quarterly_difference = S_Y - S_X\n",
    "print(quarterly_difference)\n"
   ]
  },
  {
   "cell_type": "code",
   "execution_count": 31,
   "id": "e5674268",
   "metadata": {},
   "outputs": [
    {
     "name": "stdout",
     "output_type": "stream",
     "text": [
      "[[False False False False]\n",
      " [False False False False]]\n"
     ]
    }
   ],
   "source": [
    "less_than_2 = S_X < 2\n",
    "print(less_than_2)\n"
   ]
  },
  {
   "cell_type": "code",
   "execution_count": 32,
   "id": "d0ea7ecd",
   "metadata": {},
   "outputs": [
    {
     "name": "stdout",
     "output_type": "stream",
     "text": [
      "[[ 2  7 13 18]\n",
      " [ 4 12 18 23]]\n",
      "[[False False  True  True]\n",
      " [False  True  True  True]]\n"
     ]
    }
   ],
   "source": [
    "X_cumsum = np.cumsum(S_X, axis = 1)\n",
    "print(X_cumsum)\n",
    "# [[ 2 7 13 18]\n",
    "# [ 4 12 18 23]]\n",
    "print( X_cumsum >= 8)\n"
   ]
  },
  {
   "cell_type": "code",
   "execution_count": 33,
   "id": "d6075795",
   "metadata": {},
   "outputs": [
    {
     "name": "stdout",
     "output_type": "stream",
     "text": [
      "[4.5  5.75]\n"
     ]
    }
   ],
   "source": [
    "yearly_mean_X = np.mean(S_X, axis=1)\n",
    "print(yearly_mean_X)"
   ]
  },
  {
   "cell_type": "code",
   "execution_count": 34,
   "id": "cba48b4d",
   "metadata": {},
   "outputs": [
    {
     "name": "stdout",
     "output_type": "stream",
     "text": [
      "[6.5 6.  5.5 6.5]\n"
     ]
    }
   ],
   "source": [
    "quarterly_mean_Y = np.mean(S_Y, axis=0)\n",
    "print(quarterly_mean_Y)\n"
   ]
  },
  {
   "cell_type": "code",
   "execution_count": 35,
   "id": "4aad77e3",
   "metadata": {},
   "outputs": [
    {
     "name": "stdout",
     "output_type": "stream",
     "text": [
      "[1, 4, 9, 16, 25]\n"
     ]
    }
   ],
   "source": [
    "numbers = [1, 2, 3, 4, 5]\n",
    "squared_numbers = map(lambda x: x ** 2, numbers)\n",
    "print(list(squared_numbers)) "
   ]
  },
  {
   "cell_type": "code",
   "execution_count": 36,
   "id": "85dc1aa9",
   "metadata": {},
   "outputs": [
    {
     "name": "stdout",
     "output_type": "stream",
     "text": [
      "[2, 4]\n"
     ]
    }
   ],
   "source": [
    "numbers = [1, 2, 3, 4, 5]\n",
    "even_numbers = filter(lambda x: x % 2 == 0, numbers)\n",
    "print(list(even_numbers)) "
   ]
  },
  {
   "cell_type": "code",
   "execution_count": 37,
   "id": "d8e946a7",
   "metadata": {},
   "outputs": [
    {
     "name": "stdout",
     "output_type": "stream",
     "text": [
      "15\n"
     ]
    }
   ],
   "source": [
    "from functools import reduce\n",
    "numbers = [1, 2, 3, 4, 5]\n",
    "sum_of_numbers = reduce(lambda x, y: x + y, numbers)\n",
    "print(sum_of_numbers) "
   ]
  },
  {
   "cell_type": "code",
   "execution_count": 2,
   "id": "f73be258",
   "metadata": {},
   "outputs": [
    {
     "name": "stdout",
     "output_type": "stream",
     "text": [
      "81\n"
     ]
    }
   ],
   "source": [
    "square = lambda x: x ** 2\n",
    "print(square(9))"
   ]
  },
  {
   "cell_type": "code",
   "execution_count": null,
   "id": "acc4ce36",
   "metadata": {},
   "outputs": [],
   "source": []
  }
 ],
 "metadata": {
  "kernelspec": {
   "display_name": "Python 3 (ipykernel)",
   "language": "python",
   "name": "python3"
  },
  "language_info": {
   "codemirror_mode": {
    "name": "ipython",
    "version": 3
   },
   "file_extension": ".py",
   "mimetype": "text/x-python",
   "name": "python",
   "nbconvert_exporter": "python",
   "pygments_lexer": "ipython3",
   "version": "3.11.3"
  }
 },
 "nbformat": 4,
 "nbformat_minor": 5
}
